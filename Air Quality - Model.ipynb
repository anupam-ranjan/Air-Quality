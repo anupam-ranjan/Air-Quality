{
 "cells": [
  {
   "cell_type": "markdown",
   "metadata": {},
   "source": [
    "# Air Quality - Model"
   ]
  },
  {
   "cell_type": "markdown",
   "metadata": {},
   "source": [
    "Approach:\n",
    "1. Different input variable have different ranges, this may lead to bias in the model. We first normalise the data\n",
    "2. We then split the dataset into train andtest data\n",
    "3. We consider 6 different algorithms (Linear Regression, Lasso, Elastic Net, K Nearest Neighbour,  Decision Tree/Random Forest and SVM to find out best performing models\n",
    "4. Next we shall reduce dimentionality of the model. We may use Principal Component Analysis(PCA) or Recursive Feature Elimination(RFE). RFE gave a good result, hence, I used RFE\n",
    "5. Now, we have best performing model, best performing features and normalised predictor variables. We now do detailed analysis with top 3 algorithms and compare result"
   ]
  },
  {
   "cell_type": "code",
   "execution_count": 74,
   "metadata": {},
   "outputs": [],
   "source": [
    "import os\n",
    "os.chdir('E:/Anupam/HomeDocs/DataScience/UpX-Academy/MachineLearning/Project/Air_Quality/')\n",
    "import warnings\n",
    "warnings.filterwarnings(\"ignore\")\n",
    "warnings.filterwarnings(\"ignore\", category=DeprecationWarning)"
   ]
  },
  {
   "cell_type": "code",
   "execution_count": 75,
   "metadata": {},
   "outputs": [],
   "source": [
    "import numpy as np\n",
    "import pandas as pd\n",
    "import matplotlib.pyplot as plt\n",
    "import seaborn as sns\n",
    "from sklearn import metrics\n",
    "from sklearn.cross_validation import train_test_split"
   ]
  },
  {
   "cell_type": "code",
   "execution_count": 76,
   "metadata": {},
   "outputs": [
    {
     "data": {
      "text/html": [
       "<div>\n",
       "<style scoped>\n",
       "    .dataframe tbody tr th:only-of-type {\n",
       "        vertical-align: middle;\n",
       "    }\n",
       "\n",
       "    .dataframe tbody tr th {\n",
       "        vertical-align: top;\n",
       "    }\n",
       "\n",
       "    .dataframe thead th {\n",
       "        text-align: right;\n",
       "    }\n",
       "</style>\n",
       "<table border=\"1\" class=\"dataframe\">\n",
       "  <thead>\n",
       "    <tr style=\"text-align: right;\">\n",
       "      <th></th>\n",
       "      <th>Record_Hour</th>\n",
       "      <th>NMHC(GT)</th>\n",
       "      <th>NOx(GT)</th>\n",
       "      <th>PT08.S3(NOx)</th>\n",
       "      <th>NO2(GT)</th>\n",
       "      <th>PT08.S4(NO2)</th>\n",
       "      <th>PT08.S5(O3)</th>\n",
       "      <th>T</th>\n",
       "      <th>RH</th>\n",
       "      <th>AH</th>\n",
       "      <th>Month</th>\n",
       "      <th>DateOfMonth</th>\n",
       "      <th>Weekday</th>\n",
       "      <th>Weekend</th>\n",
       "      <th>Temp_Bin</th>\n",
       "      <th>dNMHC</th>\n",
       "      <th>dNOx</th>\n",
       "      <th>dNO2</th>\n",
       "    </tr>\n",
       "  </thead>\n",
       "  <tbody>\n",
       "    <tr>\n",
       "      <th>0</th>\n",
       "      <td>18.0</td>\n",
       "      <td>150.0</td>\n",
       "      <td>166.0</td>\n",
       "      <td>1056.0</td>\n",
       "      <td>113.0</td>\n",
       "      <td>1692.0</td>\n",
       "      <td>1268.0</td>\n",
       "      <td>13.6</td>\n",
       "      <td>48.9</td>\n",
       "      <td>0.7578</td>\n",
       "      <td>3</td>\n",
       "      <td>10</td>\n",
       "      <td>2</td>\n",
       "      <td>0</td>\n",
       "      <td>4</td>\n",
       "      <td>38.0</td>\n",
       "      <td>63.0</td>\n",
       "      <td>21.0</td>\n",
       "    </tr>\n",
       "    <tr>\n",
       "      <th>9308</th>\n",
       "      <td>14.0</td>\n",
       "      <td>275.0</td>\n",
       "      <td>112.0</td>\n",
       "      <td>1022.0</td>\n",
       "      <td>80.0</td>\n",
       "      <td>853.0</td>\n",
       "      <td>382.0</td>\n",
       "      <td>22.0</td>\n",
       "      <td>20.2</td>\n",
       "      <td>0.5274</td>\n",
       "      <td>4</td>\n",
       "      <td>2</td>\n",
       "      <td>5</td>\n",
       "      <td>1</td>\n",
       "      <td>6</td>\n",
       "      <td>0.0</td>\n",
       "      <td>0.0</td>\n",
       "      <td>-1.0</td>\n",
       "    </tr>\n",
       "    <tr>\n",
       "      <th>1843</th>\n",
       "      <td>13.0</td>\n",
       "      <td>275.0</td>\n",
       "      <td>127.0</td>\n",
       "      <td>1128.0</td>\n",
       "      <td>112.0</td>\n",
       "      <td>1449.0</td>\n",
       "      <td>1060.0</td>\n",
       "      <td>31.6</td>\n",
       "      <td>16.4</td>\n",
       "      <td>0.7489</td>\n",
       "      <td>5</td>\n",
       "      <td>26</td>\n",
       "      <td>2</td>\n",
       "      <td>0</td>\n",
       "      <td>8</td>\n",
       "      <td>0.0</td>\n",
       "      <td>-1.0</td>\n",
       "      <td>0.0</td>\n",
       "    </tr>\n",
       "    <tr>\n",
       "      <th>5957</th>\n",
       "      <td>23.0</td>\n",
       "      <td>275.0</td>\n",
       "      <td>93.0</td>\n",
       "      <td>1136.0</td>\n",
       "      <td>52.0</td>\n",
       "      <td>1026.0</td>\n",
       "      <td>506.0</td>\n",
       "      <td>13.3</td>\n",
       "      <td>53.0</td>\n",
       "      <td>0.8044</td>\n",
       "      <td>11</td>\n",
       "      <td>13</td>\n",
       "      <td>5</td>\n",
       "      <td>1</td>\n",
       "      <td>4</td>\n",
       "      <td>0.0</td>\n",
       "      <td>-7.0</td>\n",
       "      <td>-5.0</td>\n",
       "    </tr>\n",
       "    <tr>\n",
       "      <th>3783</th>\n",
       "      <td>9.0</td>\n",
       "      <td>275.0</td>\n",
       "      <td>61.0</td>\n",
       "      <td>841.0</td>\n",
       "      <td>59.0</td>\n",
       "      <td>1562.0</td>\n",
       "      <td>759.0</td>\n",
       "      <td>26.3</td>\n",
       "      <td>50.1</td>\n",
       "      <td>1.6889</td>\n",
       "      <td>8</td>\n",
       "      <td>15</td>\n",
       "      <td>6</td>\n",
       "      <td>1</td>\n",
       "      <td>7</td>\n",
       "      <td>0.0</td>\n",
       "      <td>15.0</td>\n",
       "      <td>3.0</td>\n",
       "    </tr>\n",
       "  </tbody>\n",
       "</table>\n",
       "</div>"
      ],
      "text/plain": [
       "      Record_Hour  NMHC(GT)  NOx(GT)  PT08.S3(NOx)  NO2(GT)  PT08.S4(NO2)  \\\n",
       "0            18.0     150.0    166.0        1056.0    113.0        1692.0   \n",
       "9308         14.0     275.0    112.0        1022.0     80.0         853.0   \n",
       "1843         13.0     275.0    127.0        1128.0    112.0        1449.0   \n",
       "5957         23.0     275.0     93.0        1136.0     52.0        1026.0   \n",
       "3783          9.0     275.0     61.0         841.0     59.0        1562.0   \n",
       "\n",
       "      PT08.S5(O3)     T    RH      AH  Month  DateOfMonth  Weekday  Weekend  \\\n",
       "0          1268.0  13.6  48.9  0.7578      3           10        2        0   \n",
       "9308        382.0  22.0  20.2  0.5274      4            2        5        1   \n",
       "1843       1060.0  31.6  16.4  0.7489      5           26        2        0   \n",
       "5957        506.0  13.3  53.0  0.8044     11           13        5        1   \n",
       "3783        759.0  26.3  50.1  1.6889      8           15        6        1   \n",
       "\n",
       "      Temp_Bin  dNMHC  dNOx  dNO2  \n",
       "0            4   38.0  63.0  21.0  \n",
       "9308         6    0.0   0.0  -1.0  \n",
       "1843         8    0.0  -1.0   0.0  \n",
       "5957         4    0.0  -7.0  -5.0  \n",
       "3783         7    0.0  15.0   3.0  "
      ]
     },
     "execution_count": 76,
     "metadata": {},
     "output_type": "execute_result"
    }
   ],
   "source": [
    "air_quality = pd.read_csv ('Air_Quality_EDA.csv')\n",
    "air_quality.RH = round(air_quality.RH, 1)\n",
    "air_quality.sample(5)"
   ]
  },
  {
   "cell_type": "markdown",
   "metadata": {},
   "source": [
    "### Data Normalization"
   ]
  },
  {
   "cell_type": "code",
   "execution_count": 77,
   "metadata": {},
   "outputs": [],
   "source": [
    "# Normalize the data\n",
    "from sklearn import preprocessing\n",
    "# Drop the target variable, ID, and non-relevant features\n",
    "air_quality_normalized = air_quality.drop(['RH'], axis=1)\n",
    "air_quality_normalized = pd.DataFrame(preprocessing.scale(air_quality_normalized), columns = air_quality_normalized.columns)\n"
   ]
  },
  {
   "cell_type": "markdown",
   "metadata": {},
   "source": [
    "Scaling is giving a good result, hence I go with scaling. Alternately, Standard Scaler or Min Max Scaler can also be used"
   ]
  },
  {
   "cell_type": "markdown",
   "metadata": {},
   "source": [
    "### Split the dataset into Test & Train"
   ]
  },
  {
   "cell_type": "code",
   "execution_count": 78,
   "metadata": {},
   "outputs": [
    {
     "data": {
      "text/plain": [
       "(6345, 17)"
      ]
     },
     "metadata": {},
     "output_type": "display_data"
    },
    {
     "data": {
      "text/plain": [
       "(3126, 17)"
      ]
     },
     "metadata": {},
     "output_type": "display_data"
    },
    {
     "data": {
      "text/plain": [
       "(6345,)"
      ]
     },
     "metadata": {},
     "output_type": "display_data"
    },
    {
     "data": {
      "text/plain": [
       "(3126,)"
      ]
     },
     "metadata": {},
     "output_type": "display_data"
    }
   ],
   "source": [
    "# Split the data into train and test data\n",
    "feature_cols = air_quality.drop(['RH'], axis = 1).columns\n",
    "X = air_quality_normalized [feature_cols]\n",
    "y = air_quality.RH\n",
    "X_train, X_test, y_train, y_test = train_test_split(X, y, test_size=0.33, random_state=3)\n",
    "display(X_train.shape, X_test.shape, y_train.shape, y_test.shape)"
   ]
  },
  {
   "cell_type": "markdown",
   "metadata": {},
   "source": [
    "### Model Comparison & Selection"
   ]
  },
  {
   "cell_type": "code",
   "execution_count": 79,
   "metadata": {},
   "outputs": [],
   "source": [
    "from sklearn import linear_model\n",
    "from sklearn.linear_model import LinearRegression\n",
    "from sklearn.linear_model import Lasso\n",
    "from sklearn.linear_model import ElasticNet\n",
    "from sklearn.neighbors import KNeighborsRegressor\n",
    "from sklearn.tree import DecisionTreeRegressor\n",
    "from sklearn.svm import SVR\n",
    "from sklearn import naive_bayes\n",
    "from sklearn import model_selection\n",
    "from sklearn.model_selection import cross_val_score"
   ]
  },
  {
   "cell_type": "code",
   "execution_count": 80,
   "metadata": {},
   "outputs": [],
   "source": [
    "#Build the Model\n",
    "MLA = [\n",
    "    LinearRegression(),\n",
    "    Lasso(),\n",
    "    ElasticNet(),\n",
    "    KNeighborsRegressor(),\n",
    "    DecisionTreeRegressor(),\n",
    "    SVR(),\n",
    "#    naive_bayes.BernoulliNB(),\n",
    "    ]\n",
    "\n",
    "MLA_columns = []\n",
    "MLA_compare = pd.DataFrame(columns = MLA_columns)\n"
   ]
  },
  {
   "cell_type": "code",
   "execution_count": 81,
   "metadata": {},
   "outputs": [
    {
     "data": {
      "text/html": [
       "<div>\n",
       "<style scoped>\n",
       "    .dataframe tbody tr th:only-of-type {\n",
       "        vertical-align: middle;\n",
       "    }\n",
       "\n",
       "    .dataframe tbody tr th {\n",
       "        vertical-align: top;\n",
       "    }\n",
       "\n",
       "    .dataframe thead th {\n",
       "        text-align: right;\n",
       "    }\n",
       "</style>\n",
       "<table border=\"1\" class=\"dataframe\">\n",
       "  <thead>\n",
       "    <tr style=\"text-align: right;\">\n",
       "      <th></th>\n",
       "      <th>Algorithm Name</th>\n",
       "      <th>Train Accuracy</th>\n",
       "      <th>Test Accuracy</th>\n",
       "      <th>RMSE</th>\n",
       "    </tr>\n",
       "  </thead>\n",
       "  <tbody>\n",
       "    <tr>\n",
       "      <th>4</th>\n",
       "      <td>DecisionTreeRegressor</td>\n",
       "      <td>1.0000</td>\n",
       "      <td>0.9931</td>\n",
       "      <td>1.463429</td>\n",
       "    </tr>\n",
       "    <tr>\n",
       "      <th>5</th>\n",
       "      <td>SVR</td>\n",
       "      <td>0.9229</td>\n",
       "      <td>0.9184</td>\n",
       "      <td>5.041070</td>\n",
       "    </tr>\n",
       "    <tr>\n",
       "      <th>0</th>\n",
       "      <td>LinearRegression</td>\n",
       "      <td>0.8750</td>\n",
       "      <td>0.8742</td>\n",
       "      <td>6.258046</td>\n",
       "    </tr>\n",
       "    <tr>\n",
       "      <th>1</th>\n",
       "      <td>Lasso</td>\n",
       "      <td>0.8489</td>\n",
       "      <td>0.8481</td>\n",
       "      <td>6.876308</td>\n",
       "    </tr>\n",
       "    <tr>\n",
       "      <th>3</th>\n",
       "      <td>KNeighborsRegressor</td>\n",
       "      <td>0.9034</td>\n",
       "      <td>0.8426</td>\n",
       "      <td>6.999772</td>\n",
       "    </tr>\n",
       "    <tr>\n",
       "      <th>2</th>\n",
       "      <td>ElasticNet</td>\n",
       "      <td>0.6751</td>\n",
       "      <td>0.6750</td>\n",
       "      <td>10.057553</td>\n",
       "    </tr>\n",
       "  </tbody>\n",
       "</table>\n",
       "</div>"
      ],
      "text/plain": [
       "          Algorithm Name  Train Accuracy  Test Accuracy       RMSE\n",
       "4  DecisionTreeRegressor          1.0000         0.9931   1.463429\n",
       "5                    SVR          0.9229         0.9184   5.041070\n",
       "0       LinearRegression          0.8750         0.8742   6.258046\n",
       "1                  Lasso          0.8489         0.8481   6.876308\n",
       "3    KNeighborsRegressor          0.9034         0.8426   6.999772\n",
       "2             ElasticNet          0.6751         0.6750  10.057553"
      ]
     },
     "execution_count": 81,
     "metadata": {},
     "output_type": "execute_result"
    }
   ],
   "source": [
    "row_index = 0\n",
    "for alg in MLA:\n",
    "    predicted = alg.fit(X_train, y_train).predict(X_test)\n",
    "    MLA_name = alg.__class__.__name__\n",
    "    MLA_compare.loc[row_index, 'Algorithm Name'] = MLA_name\n",
    "    MLA_compare.loc[row_index, 'Train Accuracy'] = round(alg.score(X_train, y_train), 4)\n",
    "    MLA_compare.loc[row_index, 'Test Accuracy'] = round(metrics.r2_score(y_test, predicted), 4)\n",
    "    MLA_compare.loc[row_index, 'RMSE'] = np.sqrt(metrics.mean_squared_error(y_test, predicted))\n",
    "    row_index = row_index  + 1\n",
    "MLA_compare.sort_values(by = ['Test Accuracy'], ascending = False, inplace = True)    \n",
    "MLA_compare"
   ]
  },
  {
   "cell_type": "markdown",
   "metadata": {},
   "source": [
    "#### Inference\n",
    "The K Nearest Neighbour, SVM and Decision Tree provides best accuracy on test data and lowerst RMSE value. Thus we shall do mode detailed implementation of these three algorithms"
   ]
  },
  {
   "cell_type": "markdown",
   "metadata": {},
   "source": [
    "### Dimentionality Reduction - Recursive Feature Elemination"
   ]
  },
  {
   "cell_type": "code",
   "execution_count": 82,
   "metadata": {},
   "outputs": [],
   "source": [
    "# Feature Extraction with Recursive feature elimination (RFE)\n",
    "from sklearn.feature_selection import RFE"
   ]
  },
  {
   "cell_type": "code",
   "execution_count": 83,
   "metadata": {},
   "outputs": [],
   "source": [
    "#Drop all object columns and keep the numeric  ones\n",
    "predictors = X_train\n",
    "#Output variable\n",
    "y = y_train"
   ]
  },
  {
   "cell_type": "code",
   "execution_count": 84,
   "metadata": {},
   "outputs": [],
   "source": [
    "# feature extraction\n",
    "model = DecisionTreeRegressor()\n",
    "rfe = RFE(model, 2)"
   ]
  },
  {
   "cell_type": "code",
   "execution_count": 85,
   "metadata": {},
   "outputs": [
    {
     "name": "stdout",
     "output_type": "stream",
     "text": [
      "Num Features: % 2\n",
      "Selected Features: %s [False False False False False False False  True  True False False False\n",
      " False False False False False]\n",
      "Feature Ranking: %s [ 2 14 10 11  6  3  8  1  1 13  7  4 15 12 16  5  9]\n"
     ]
    }
   ],
   "source": [
    "feature_importance = rfe.fit(predictors.values, y)\n",
    "print(\"Num Features: %\" , feature_importance.n_features_)\n",
    "print(\"Selected Features: %s\", feature_importance.support_)\n",
    "print(\"Feature Ranking: %s\", feature_importance.ranking_)"
   ]
  },
  {
   "cell_type": "markdown",
   "metadata": {},
   "source": [
    "### Which are the 2-3 most important factors that determines Relative Humidity?"
   ]
  },
  {
   "cell_type": "code",
   "execution_count": 86,
   "metadata": {},
   "outputs": [
    {
     "data": {
      "text/plain": [
       "Index(['T', 'AH'], dtype='object')"
      ]
     },
     "execution_count": 86,
     "metadata": {},
     "output_type": "execute_result"
    }
   ],
   "source": [
    "#Print all columns whose priority == 1\n",
    "feature_cols = predictors.columns[np.nonzero(feature_importance.ranking_ == 1)]\n",
    "feature_cols"
   ]
  },
  {
   "cell_type": "code",
   "execution_count": 87,
   "metadata": {},
   "outputs": [
    {
     "data": {
      "text/html": [
       "<div>\n",
       "<style scoped>\n",
       "    .dataframe tbody tr th:only-of-type {\n",
       "        vertical-align: middle;\n",
       "    }\n",
       "\n",
       "    .dataframe tbody tr th {\n",
       "        vertical-align: top;\n",
       "    }\n",
       "\n",
       "    .dataframe thead th {\n",
       "        text-align: right;\n",
       "    }\n",
       "</style>\n",
       "<table border=\"1\" class=\"dataframe\">\n",
       "  <thead>\n",
       "    <tr style=\"text-align: right;\">\n",
       "      <th></th>\n",
       "      <th>T</th>\n",
       "      <th>AH</th>\n",
       "    </tr>\n",
       "  </thead>\n",
       "  <tbody>\n",
       "    <tr>\n",
       "      <th>6875</th>\n",
       "      <td>-1.495142</td>\n",
       "      <td>-1.494896</td>\n",
       "    </tr>\n",
       "    <tr>\n",
       "      <th>9157</th>\n",
       "      <td>-0.313300</td>\n",
       "      <td>0.440171</td>\n",
       "    </tr>\n",
       "    <tr>\n",
       "      <th>565</th>\n",
       "      <td>-0.574669</td>\n",
       "      <td>-0.182063</td>\n",
       "    </tr>\n",
       "    <tr>\n",
       "      <th>4358</th>\n",
       "      <td>0.521428</td>\n",
       "      <td>-0.232302</td>\n",
       "    </tr>\n",
       "    <tr>\n",
       "      <th>291</th>\n",
       "      <td>-0.438303</td>\n",
       "      <td>-0.484757</td>\n",
       "    </tr>\n",
       "  </tbody>\n",
       "</table>\n",
       "</div>"
      ],
      "text/plain": [
       "             T        AH\n",
       "6875 -1.495142 -1.494896\n",
       "9157 -0.313300  0.440171\n",
       "565  -0.574669 -0.182063\n",
       "4358  0.521428 -0.232302\n",
       "291  -0.438303 -0.484757"
      ]
     },
     "execution_count": 87,
     "metadata": {},
     "output_type": "execute_result"
    }
   ],
   "source": [
    "X_train = X_train[predictors.columns[np.nonzero(feature_importance.ranking_ == 1)]]\n",
    "X_test = X_test[predictors.columns[np.nonzero(feature_importance.ranking_ == 1)]]\n",
    "X_train.head()"
   ]
  },
  {
   "cell_type": "markdown",
   "metadata": {},
   "source": [
    "I performed multiple iteration from 2 features to 10 features. The test accuracy is best with 2 features. Thus, I go ahead with 2 features for detailed implementation in the 3 algorithms"
   ]
  },
  {
   "cell_type": "markdown",
   "metadata": {},
   "source": [
    "### Decision Tree"
   ]
  },
  {
   "cell_type": "code",
   "execution_count": 88,
   "metadata": {},
   "outputs": [],
   "source": [
    "from sklearn import tree\n",
    "from sklearn.tree import DecisionTreeRegressor\n",
    "from sklearn.grid_search import GridSearchCV"
   ]
  },
  {
   "cell_type": "markdown",
   "metadata": {},
   "source": [
    "Run the gridsearch to find best hyper parameters"
   ]
  },
  {
   "cell_type": "code",
   "execution_count": 89,
   "metadata": {},
   "outputs": [
    {
     "data": {
      "text/plain": [
       "{'max_depth': 9, 'min_samples_split': 5}"
      ]
     },
     "execution_count": 89,
     "metadata": {},
     "output_type": "execute_result"
    }
   ],
   "source": [
    "params = {\"max_depth\": np.arange(3,10), \"min_samples_split\": np.arange(5,15)}\n",
    "model = tree.DecisionTreeRegressor()\n",
    "grid = GridSearchCV(estimator = model,  param_grid = params, cv  =  10)\n",
    "grid_model = grid.fit(X_train, y_train)\n",
    "grid_model.best_params_"
   ]
  },
  {
   "cell_type": "code",
   "execution_count": 90,
   "metadata": {},
   "outputs": [],
   "source": [
    "#Building the decision tree\n",
    "model = tree.DecisionTreeRegressor(max_depth = 9, min_samples_split = 5, random_state = 123)\n",
    "model = model.fit(X_train, y_train)"
   ]
  },
  {
   "cell_type": "code",
   "execution_count": 91,
   "metadata": {},
   "outputs": [],
   "source": [
    "#Predicting the value\n",
    "y_pred = model.predict(X_test)"
   ]
  },
  {
   "cell_type": "code",
   "execution_count": 92,
   "metadata": {},
   "outputs": [
    {
     "name": "stdout",
     "output_type": "stream",
     "text": [
      "0.9902761493511477\n",
      "0.9852361483867574\n"
     ]
    }
   ],
   "source": [
    "#Accuracy of Model\n",
    "print(model.score(X_train, y_train))\n",
    "print(model.score(X_test, y_test))"
   ]
  },
  {
   "cell_type": "code",
   "execution_count": 93,
   "metadata": {},
   "outputs": [
    {
     "data": {
      "image/png": "[encoded data removed]",
      "text/plain": [
       "<matplotlib.figure.Figure at 0xb4f4b38>"
      ]
     },
     "metadata": {},
     "output_type": "display_data"
    },
    {
     "data": {
      "text/plain": [
       "[('T', 0.6193880678897631), ('AH', 0.380611932110237)]"
      ]
     },
     "execution_count": 93,
     "metadata": {},
     "output_type": "execute_result"
    }
   ],
   "source": [
    "#finding feature importance of each input parameters\n",
    "features = feature_cols\n",
    "importances = model.feature_importances_\n",
    "indices = np.argsort(importances)  # top 20 features\n",
    "plt.title('Feature Importances')\n",
    "plt.barh(range(len(indices)), importances[indices], color='b', align='center')\n",
    "plt.yticks(range(len(indices)), [features[i] for i in indices])\n",
    "plt.xlabel('Relative Importance')\n",
    "plt.show()\n",
    "list(zip(feature_cols, model.feature_importances_))"
   ]
  },
  {
   "cell_type": "code",
   "execution_count": 94,
   "metadata": {},
   "outputs": [
    {
     "data": {
      "text/plain": [
       "2.1436644282714217"
      ]
     },
     "execution_count": 94,
     "metadata": {},
     "output_type": "execute_result"
    }
   ],
   "source": [
    "rmse_value = np.sqrt(metrics.mean_squared_error(y_test, y_pred))\n",
    "rmse_value"
   ]
  },
  {
   "cell_type": "code",
   "execution_count": 95,
   "metadata": {},
   "outputs": [],
   "source": [
    "#Check the decision tree\n",
    "with open(\"air_quality.dot\", 'w') as f:\n",
    "    f = tree.export_graphviz(model, out_file=f)\n",
    "# visit http://webgraphviz.com to visualize the tree\n"
   ]
  },
  {
   "cell_type": "markdown",
   "metadata": {},
   "source": [
    "### Random Forest"
   ]
  },
  {
   "cell_type": "code",
   "execution_count": 96,
   "metadata": {},
   "outputs": [
    {
     "name": "stderr",
     "output_type": "stream",
     "text": [
      "[Parallel(n_jobs=1)]: Done 100 out of 100 | elapsed:    2.2s finished\n"
     ]
    }
   ],
   "source": [
    "from sklearn.ensemble import RandomForestRegressor\n",
    "import math\n",
    "forest = RandomForestRegressor(n_estimators = 100, random_state = 100, max_depth = 9, min_samples_split=7, verbose=1)\n",
    "model = forest.fit(X_train, y_train)"
   ]
  },
  {
   "cell_type": "code",
   "execution_count": 97,
   "metadata": {},
   "outputs": [
    {
     "name": "stderr",
     "output_type": "stream",
     "text": [
      "[Parallel(n_jobs=1)]: Done 100 out of 100 | elapsed:    0.0s finished\n"
     ]
    }
   ],
   "source": [
    "y_pred =  model.predict(X_test)"
   ]
  },
  {
   "cell_type": "code",
   "execution_count": 98,
   "metadata": {},
   "outputs": [
    {
     "name": "stdout",
     "output_type": "stream",
     "text": [
      "Train Accuracy:  0.9976690256250065\n",
      "Test Accuracy:  0.9963519859689669\n",
      "RMSE:  1.065577926789993\n"
     ]
    },
    {
     "name": "stderr",
     "output_type": "stream",
     "text": [
      "[Parallel(n_jobs=1)]: Done 100 out of 100 | elapsed:    0.1s finished\n",
      "[Parallel(n_jobs=1)]: Done 100 out of 100 | elapsed:    0.0s finished\n"
     ]
    }
   ],
   "source": [
    "# Print the score of the fitted random forest\n",
    "print('Train Accuracy: ', model.score(X_train, y_train))\n",
    "print('Test Accuracy: ', model.score(X_test, y_test))\n",
    "rmse = math.sqrt(metrics.mean_squared_error(y_test, y_pred))\n",
    "\n",
    "print('RMSE: ' , rmse)"
   ]
  },
  {
   "cell_type": "code",
   "execution_count": 99,
   "metadata": {},
   "outputs": [
    {
     "name": "stdout",
     "output_type": "stream",
     "text": [
      "Adjusted R Squared:  0.8662557093052974\n"
     ]
    }
   ],
   "source": [
    "import statsmodels.api as sm\n",
    "X_train1 = sm.add_constant(X_train)\n",
    "model =sm.OLS(y_train,X_train1).fit()\n",
    "#print(model.params)\n",
    "print('Adjusted R Squared: ', model.rsquared_adj)"
   ]
  },
  {
   "cell_type": "markdown",
   "metadata": {},
   "source": [
    "#### Inference\n",
    "Decision Tree/Randome forest<BR>\n",
    "1. Test Accuracy: 0.9963519859689669\n",
    "2. RMSE: 1.065577926789993\n",
    "3. Adjusted R Squared:  0.8662557093052974"
   ]
  },
  {
   "cell_type": "markdown",
   "metadata": {},
   "source": [
    "### K Nearest Neighbors"
   ]
  },
  {
   "cell_type": "code",
   "execution_count": 100,
   "metadata": {},
   "outputs": [],
   "source": [
    "from sklearn.neighbors import KNeighborsRegressor\n",
    "from sklearn.cross_validation import cross_val_score"
   ]
  },
  {
   "cell_type": "code",
   "execution_count": 101,
   "metadata": {},
   "outputs": [],
   "source": [
    "X_train_values = X_train.values\n",
    "y_train_values = y_train.values\n",
    "X_test_values = X_test.values"
   ]
  },
  {
   "cell_type": "markdown",
   "metadata": {},
   "source": [
    "Run the gridsearch to find best hyper parameters"
   ]
  },
  {
   "cell_type": "code",
   "execution_count": 102,
   "metadata": {},
   "outputs": [
    {
     "data": {
      "text/plain": [
       "{'n_neighbors': 4, 'p': 2, 'weights': 'distance'}"
      ]
     },
     "execution_count": 102,
     "metadata": {},
     "output_type": "execute_result"
    }
   ],
   "source": [
    "#Apply Cross Validation to decide on hyper parameters\n",
    "params = {\"n_neighbors\": np.arange(2, 25, 1), \"weights\": ('distance', 'uniform'), \"p\": [1,2,3]}\n",
    "knn_reggression = KNeighborsRegressor()\n",
    "grid = GridSearchCV(knn_reggression, params)\n",
    "grid_model = grid.fit(X_train,y_train)\n",
    "grid_model.best_params_"
   ]
  },
  {
   "cell_type": "code",
   "execution_count": 103,
   "metadata": {},
   "outputs": [],
   "source": [
    "knn_reggression = KNeighborsRegressor(n_neighbors = 4, weights = 'distance', p = 2)\n",
    "model = knn_reggression.fit(X_train, y_train)"
   ]
  },
  {
   "cell_type": "code",
   "execution_count": 104,
   "metadata": {},
   "outputs": [
    {
     "data": {
      "text/plain": [
       "array([55.86174634, 62.55125113, 42.36253945, ..., 65.13721051,\n",
       "       43.46587191, 74.53534689])"
      ]
     },
     "execution_count": 104,
     "metadata": {},
     "output_type": "execute_result"
    }
   ],
   "source": [
    "#Predicting the value\n",
    "y_pred = model.predict(X_test_values)\n",
    "y_pred"
   ]
  },
  {
   "cell_type": "code",
   "execution_count": 105,
   "metadata": {},
   "outputs": [
    {
     "name": "stdout",
     "output_type": "stream",
     "text": [
      "RMSE:  0.5703893557115431\n",
      "Test Accuracy:  0.9989547290191206\n"
     ]
    }
   ],
   "source": [
    "rmse = np.sqrt(metrics.mean_squared_error(y_test, y_pred))\n",
    "print('RMSE: ' , rmse)\n",
    "# Coefficient of determination or R squared value on test dataset\n",
    "print('Test Accuracy: ' , metrics.r2_score(y_test, y_pred))"
   ]
  },
  {
   "cell_type": "code",
   "execution_count": 106,
   "metadata": {},
   "outputs": [
    {
     "name": "stdout",
     "output_type": "stream",
     "text": [
      "Adjusted R Squared:  0.8662557093052974\n"
     ]
    }
   ],
   "source": [
    "import statsmodels.api as sm\n",
    "X_train1 = sm.add_constant(X_train)\n",
    "model =sm.OLS(y_train,X_train1).fit()\n",
    "#print(model.params)\n",
    "print('Adjusted R Squared: ', model.rsquared_adj)"
   ]
  },
  {
   "cell_type": "markdown",
   "metadata": {},
   "source": [
    "#### Inference\n",
    "Decision Tree/Randome forest<BR>\n",
    "1. Test Accuracy: 0.9963519859689669\n",
    "2. RMSE: 1.065577926789993\n",
    "3. Adjusted R Squared:  0.8662557093052974\n",
    "\n",
    "KNN<BR>\n",
    "1. Test Accuracy: 0.9989547290191206\n",
    "2. RMSE: 0.5703893557115431\n",
    "3. Adjusted R Squared:  0.8662557093052974\n",
    "\n",
    "The RMSE value is lower that Decision Tree/Random forest. But Adjusted R Squared value is nearly the same"
   ]
  },
  {
   "cell_type": "markdown",
   "metadata": {},
   "source": [
    "### Support Vector Machine"
   ]
  },
  {
   "cell_type": "code",
   "execution_count": 107,
   "metadata": {},
   "outputs": [],
   "source": [
    "from sklearn import svm\n",
    "from sklearn.grid_search import GridSearchCV"
   ]
  },
  {
   "cell_type": "code",
   "execution_count": 108,
   "metadata": {},
   "outputs": [],
   "source": [
    "params = {\"kernel\": ('linear', 'rbf'), \"gamma\": [0.03,1,10], }## Please keep patience, It'll take long time"
   ]
  },
  {
   "cell_type": "code",
   "execution_count": 109,
   "metadata": {},
   "outputs": [
    {
     "data": {
      "text/plain": [
       "{'gamma': 1, 'kernel': 'rbf'}"
      ]
     },
     "execution_count": 109,
     "metadata": {},
     "output_type": "execute_result"
    }
   ],
   "source": [
    "model = svm.SVR()\n",
    "grid = GridSearchCV(model,params)\n",
    "grid_model = grid.fit(X_train,y_train)\n",
    "grid_model.best_params_"
   ]
  },
  {
   "cell_type": "code",
   "execution_count": 110,
   "metadata": {},
   "outputs": [
    {
     "data": {
      "text/plain": [
       "SVR(C=1.0, cache_size=200, coef0=0.0, degree=3, epsilon=0.1, gamma=1,\n",
       "  kernel='rbf', max_iter=-1, shrinking=True, tol=0.001, verbose=False)"
      ]
     },
     "execution_count": 110,
     "metadata": {},
     "output_type": "execute_result"
    }
   ],
   "source": [
    "#Build the model\n",
    "model = svm.SVR(kernel='rbf', gamma=1)\n",
    "model.fit(X_train, y_train)"
   ]
  },
  {
   "cell_type": "code",
   "execution_count": 111,
   "metadata": {},
   "outputs": [],
   "source": [
    "#Predicting the value\n",
    "y_pred = model.predict(X_test)"
   ]
  },
  {
   "cell_type": "code",
   "execution_count": 112,
   "metadata": {},
   "outputs": [
    {
     "name": "stdout",
     "output_type": "stream",
     "text": [
      "Test Score:  0.9982761915411439\n"
     ]
    }
   ],
   "source": [
    "# Print the score of the fitted model\n",
    "print('Test Score: ', metrics.r2_score(y_test, y_pred))"
   ]
  },
  {
   "cell_type": "code",
   "execution_count": 113,
   "metadata": {},
   "outputs": [
    {
     "name": "stdout",
     "output_type": "stream",
     "text": [
      "RMSE:  0.7324896108613005\n"
     ]
    }
   ],
   "source": [
    "#RMSE Value\n",
    "rmse = np.sqrt(metrics.mean_squared_error(y_test, y_pred))\n",
    "print('RMSE: ', rmse)"
   ]
  },
  {
   "cell_type": "code",
   "execution_count": 114,
   "metadata": {},
   "outputs": [
    {
     "name": "stdout",
     "output_type": "stream",
     "text": [
      "Adjusted R Squared  0.8662557093052974\n"
     ]
    }
   ],
   "source": [
    "#Adjusted R Squared\n",
    "import statsmodels.api as sm\n",
    "X_train1 = sm.add_constant(X_train)\n",
    "model =sm.OLS(y_train,X_train1).fit()\n",
    "#print(model.params)\n",
    "print('Adjusted R Squared ', model.rsquared_adj)"
   ]
  },
  {
   "cell_type": "markdown",
   "metadata": {},
   "source": [
    "#### Inference\n",
    "Decision Tree/Random forest<BR>\n",
    "1. Test Accuracy: 0.9963519859689669\n",
    "2. RMSE: 1.065577926789993\n",
    "3. Adjusted R Squared:  0.8662557093052974\n",
    "\n",
    "KNN<BR>\n",
    "1. Test Accuracy: 0.9989547290191206\n",
    "2. RMSE: 0.5703893557115431\n",
    "3. Adjusted R Squared:  0.8662557093052974\n",
    "\n",
    "SVM<BR>\n",
    "1. Test Accuracy: 0.9982761915411439\n",
    "2. RMSE: 0.7324896108613005\n",
    "3. Adjusted R Squared:  0.8662557093052974\n",
    "\n",
    "The test accuracy of  SVM is better than Decision Tree/Random Forest and KNN. RMSE value is lower than Decision Tree/Random forest but higher than KNN. Adjusted R Squared value is nearly the same for all 3 models<BR><BR>\n",
    "\n",
    "<B>Conclusion: We go with KNN as the chosen model since it has highest accuracy (99.89547290191206%) and lowest RMSE 0.5703893557115431 among the 3 models and adjusted Rsquared value of 0.8662557093052974</B>"
   ]
  },
  {
   "cell_type": "code",
   "execution_count": null,
   "metadata": {},
   "outputs": [],
   "source": []
  },
  {
   "cell_type": "code",
   "execution_count": null,
   "metadata": {},
   "outputs": [],
   "source": []
  }
 ],
 "metadata": {
  "kernelspec": {
   "display_name": "Python 3",
   "language": "python",
   "name": "python3"
  },
  "language_info": {
   "codemirror_mode": {
    "name": "ipython",
    "version": 3
   },
   "file_extension": ".py",
   "mimetype": "text/x-python",
   "name": "python",
   "nbconvert_exporter": "python",
   "pygments_lexer": "ipython3",
   "version": "3.6.4"
  }
 },
 "nbformat": 4,
 "nbformat_minor": 2
}
